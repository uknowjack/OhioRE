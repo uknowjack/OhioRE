{
 "cells": [
  {
   "cell_type": "code",
   "execution_count": 3,
   "metadata": {
    "ExecuteTime": {
     "end_time": "2019-09-05T00:37:28.640083Z",
     "start_time": "2019-09-05T00:37:27.639348Z"
    }
   },
   "outputs": [],
   "source": [
    "import pandas as pd\n",
    "import numpy as np\n",
    "\n",
    "import time\n",
    "import random\n",
    "import os\n",
    "\n",
    "from selenium import webdriver\n",
    "\n",
    "from selenium.webdriver.common.keys import Keys\n",
    "\n",
    "from selenium.webdriver.support.ui import WebDriverWait\n",
    "from selenium.webdriver.common.by import By\n",
    "from selenium.webdriver.support import expected_conditions\n",
    "\n",
    "import pickle\n",
    "\n",
    "# from selenium.webdriver.support.select import Select\n",
    "\n",
    "# from selenium.common.exceptions import TimeoutException\n"
   ]
  },
  {
   "cell_type": "code",
   "execution_count": 2,
   "metadata": {
    "ExecuteTime": {
     "end_time": "2019-09-01T11:39:59.193284Z",
     "start_time": "2019-09-01T11:39:59.186493Z"
    }
   },
   "outputs": [],
   "source": [
    "def set_ff_preferences():\n",
    "    profile = webdriver.FirefoxProfile()\n",
    "    profile.set_preference('browser.download.folderList', 2) # custom location\n",
    "    profile.set_preference('browser.download.dir', (os.getcwd()+'/data/addresses'))\n",
    "    profile.set_preference('browser.download.manager.showWhenStarting', False)\n",
    "    profile.set_preference('browser.helperApps.neverAsk.saveToDisk', \"application/csv, text/csv\")\n",
    "    return profile\n",
    "\n",
    "def create_empty_ff_driver():\n",
    "    profile = set_ff_preferences()\n",
    "    driver = webdriver.Firefox(executable_path = '/Applications/geckodriver',firefox_profile=profile)\n",
    "    return driver\n",
    "\n",
    "def create_driver_opening_url(a_url):\n",
    "    driver = create_empty_ff_driver()\n",
    "    driver.get(a_url)\n",
    "    return driver\n",
    "\n",
    "def clean_from_text(text):\n",
    "#     cleaned_text = text.replace(\",\",\"\").strip()\n",
    "    cleaned_text = text.strip()\n",
    "    return cleaned_text"
   ]
  },
  {
   "cell_type": "code",
   "execution_count": 3,
   "metadata": {
    "ExecuteTime": {
     "end_time": "2019-09-01T11:40:09.746298Z",
     "start_time": "2019-09-01T11:40:09.738612Z"
    }
   },
   "outputs": [],
   "source": [
    "def get_street_names():\n",
    "    df = pd.read_excel('./data/Street20021-converted.xlsx')\n",
    "    df = df['Street Name']\n",
    "    df = df.dropna()\n",
    "    return df\n",
    "\n",
    "def navigate_search_page(a_driver, a_street_name):\n",
    "    street_name_input = WebDriverWait(a_driver, 10).until(\n",
    "        expected_conditions.presence_of_element_located(\n",
    "            (By.ID, 'street_name')))\n",
    "\n",
    "    street_name_input.clear()\n",
    "    street_name_input.send_keys(a_street_name)\n",
    "\n",
    "    search_button = WebDriverWait(a_driver, 10).until(\n",
    "        expected_conditions.presence_of_element_located(\n",
    "            (By.XPATH, \"//html/body/div[1]/div[3]/div[2]/div[3]/form[2]/div[2]/button[1]\")))\n",
    "\n",
    "    search_button.click()\n",
    "    \n",
    "def navigate_results_page(a_driver):\n",
    "    export_button = WebDriverWait(a_driver, 10).until(\n",
    "        expected_conditions.presence_of_element_located(\n",
    "            (By.XPATH, \"//html/body/div/div[3]/div/div/div[2]/div[2]/a[2]\")))\n",
    "    \n",
    "    export_button.click()\n",
    "    \n",
    "    a_driver.back()\n",
    "    \n",
    "def get_csv_page_from(a_street_name, a_driver):\n",
    "    navigate_search_page(a_driver, a_street_name)\n",
    "    navigate_results_page(a_driver)"
   ]
  },
  {
   "cell_type": "code",
   "execution_count": 4,
   "metadata": {
    "ExecuteTime": {
     "end_time": "2019-09-01T11:40:13.154960Z",
     "start_time": "2019-09-01T11:40:12.685753Z"
    }
   },
   "outputs": [],
   "source": [
    "street_df = get_street_names()"
   ]
  },
  {
   "cell_type": "code",
   "execution_count": 12,
   "metadata": {
    "ExecuteTime": {
     "end_time": "2019-09-02T15:50:10.963416Z",
     "start_time": "2019-09-02T15:50:03.823315Z"
    }
   },
   "outputs": [],
   "source": [
    "main_url = 'https://wedge1.hcauditor.org/'\n",
    "driver = create_driver_opening_url(main_url)\n",
    "    "
   ]
  },
  {
   "cell_type": "code",
   "execution_count": 6,
   "metadata": {
    "ExecuteTime": {
     "end_time": "2019-09-01T05:39:45.419596Z",
     "start_time": "2019-08-31T23:50:59.731835Z"
    }
   },
   "outputs": [
    {
     "ename": "InvalidSessionIdException",
     "evalue": "Message: Tried to run command without establishing a connection\n",
     "output_type": "error",
     "traceback": [
      "\u001b[0;31m---------------------------------------------------------------------------\u001b[0m",
      "\u001b[0;31mWebDriverException\u001b[0m                        Traceback (most recent call last)",
      "\u001b[0;32m<ipython-input-6-0e193ac1bba7>\u001b[0m in \u001b[0;36m<module>\u001b[0;34m\u001b[0m\n\u001b[1;32m      3\u001b[0m     \u001b[0;32mtry\u001b[0m\u001b[0;34m:\u001b[0m\u001b[0;34m\u001b[0m\u001b[0;34m\u001b[0m\u001b[0m\n\u001b[0;32m----> 4\u001b[0;31m         \u001b[0mget_csv_page_from\u001b[0m\u001b[0;34m(\u001b[0m\u001b[0mstreet_name\u001b[0m\u001b[0;34m,\u001b[0m \u001b[0mdriver\u001b[0m\u001b[0;34m)\u001b[0m\u001b[0;34m\u001b[0m\u001b[0;34m\u001b[0m\u001b[0m\n\u001b[0m\u001b[1;32m      5\u001b[0m     \u001b[0;32mexcept\u001b[0m\u001b[0;34m:\u001b[0m\u001b[0;34m\u001b[0m\u001b[0;34m\u001b[0m\u001b[0m\n",
      "\u001b[0;32m<ipython-input-3-2e2cfd74d06e>\u001b[0m in \u001b[0;36mget_csv_page_from\u001b[0;34m(a_street_name, a_driver)\u001b[0m\n\u001b[1;32m     31\u001b[0m     \u001b[0mnavigate_search_page\u001b[0m\u001b[0;34m(\u001b[0m\u001b[0ma_driver\u001b[0m\u001b[0;34m,\u001b[0m \u001b[0ma_street_name\u001b[0m\u001b[0;34m)\u001b[0m\u001b[0;34m\u001b[0m\u001b[0;34m\u001b[0m\u001b[0m\n\u001b[0;32m---> 32\u001b[0;31m     \u001b[0mnavigate_results_page\u001b[0m\u001b[0;34m(\u001b[0m\u001b[0ma_driver\u001b[0m\u001b[0;34m)\u001b[0m\u001b[0;34m\u001b[0m\u001b[0;34m\u001b[0m\u001b[0m\n\u001b[0m",
      "\u001b[0;32m<ipython-input-3-2e2cfd74d06e>\u001b[0m in \u001b[0;36mnavigate_results_page\u001b[0;34m(a_driver)\u001b[0m\n\u001b[1;32m     25\u001b[0m \u001b[0;34m\u001b[0m\u001b[0m\n\u001b[0;32m---> 26\u001b[0;31m     \u001b[0mexport_button\u001b[0m\u001b[0;34m.\u001b[0m\u001b[0mclick\u001b[0m\u001b[0;34m(\u001b[0m\u001b[0;34m)\u001b[0m\u001b[0;34m\u001b[0m\u001b[0;34m\u001b[0m\u001b[0m\n\u001b[0m\u001b[1;32m     27\u001b[0m \u001b[0;34m\u001b[0m\u001b[0m\n",
      "\u001b[0;32m~/anaconda3/lib/python3.7/site-packages/selenium/webdriver/remote/webelement.py\u001b[0m in \u001b[0;36mclick\u001b[0;34m(self)\u001b[0m\n\u001b[1;32m     79\u001b[0m         \u001b[0;34m\"\"\"Clicks the element.\"\"\"\u001b[0m\u001b[0;34m\u001b[0m\u001b[0;34m\u001b[0m\u001b[0m\n\u001b[0;32m---> 80\u001b[0;31m         \u001b[0mself\u001b[0m\u001b[0;34m.\u001b[0m\u001b[0m_execute\u001b[0m\u001b[0;34m(\u001b[0m\u001b[0mCommand\u001b[0m\u001b[0;34m.\u001b[0m\u001b[0mCLICK_ELEMENT\u001b[0m\u001b[0;34m)\u001b[0m\u001b[0;34m\u001b[0m\u001b[0;34m\u001b[0m\u001b[0m\n\u001b[0m\u001b[1;32m     81\u001b[0m \u001b[0;34m\u001b[0m\u001b[0m\n",
      "\u001b[0;32m~/anaconda3/lib/python3.7/site-packages/selenium/webdriver/remote/webelement.py\u001b[0m in \u001b[0;36m_execute\u001b[0;34m(self, command, params)\u001b[0m\n\u001b[1;32m    632\u001b[0m         \u001b[0mparams\u001b[0m\u001b[0;34m[\u001b[0m\u001b[0;34m'id'\u001b[0m\u001b[0;34m]\u001b[0m \u001b[0;34m=\u001b[0m \u001b[0mself\u001b[0m\u001b[0;34m.\u001b[0m\u001b[0m_id\u001b[0m\u001b[0;34m\u001b[0m\u001b[0;34m\u001b[0m\u001b[0m\n\u001b[0;32m--> 633\u001b[0;31m         \u001b[0;32mreturn\u001b[0m \u001b[0mself\u001b[0m\u001b[0;34m.\u001b[0m\u001b[0m_parent\u001b[0m\u001b[0;34m.\u001b[0m\u001b[0mexecute\u001b[0m\u001b[0;34m(\u001b[0m\u001b[0mcommand\u001b[0m\u001b[0;34m,\u001b[0m \u001b[0mparams\u001b[0m\u001b[0;34m)\u001b[0m\u001b[0;34m\u001b[0m\u001b[0;34m\u001b[0m\u001b[0m\n\u001b[0m\u001b[1;32m    634\u001b[0m \u001b[0;34m\u001b[0m\u001b[0m\n",
      "\u001b[0;32m~/anaconda3/lib/python3.7/site-packages/selenium/webdriver/remote/webdriver.py\u001b[0m in \u001b[0;36mexecute\u001b[0;34m(self, driver_command, params)\u001b[0m\n\u001b[1;32m    320\u001b[0m         \u001b[0;32mif\u001b[0m \u001b[0mresponse\u001b[0m\u001b[0;34m:\u001b[0m\u001b[0;34m\u001b[0m\u001b[0;34m\u001b[0m\u001b[0m\n\u001b[0;32m--> 321\u001b[0;31m             \u001b[0mself\u001b[0m\u001b[0;34m.\u001b[0m\u001b[0merror_handler\u001b[0m\u001b[0;34m.\u001b[0m\u001b[0mcheck_response\u001b[0m\u001b[0;34m(\u001b[0m\u001b[0mresponse\u001b[0m\u001b[0;34m)\u001b[0m\u001b[0;34m\u001b[0m\u001b[0;34m\u001b[0m\u001b[0m\n\u001b[0m\u001b[1;32m    322\u001b[0m             response['value'] = self._unwrap_value(\n",
      "\u001b[0;32m~/anaconda3/lib/python3.7/site-packages/selenium/webdriver/remote/errorhandler.py\u001b[0m in \u001b[0;36mcheck_response\u001b[0;34m(self, response)\u001b[0m\n\u001b[1;32m    241\u001b[0m             \u001b[0;32mraise\u001b[0m \u001b[0mexception_class\u001b[0m\u001b[0;34m(\u001b[0m\u001b[0mmessage\u001b[0m\u001b[0;34m,\u001b[0m \u001b[0mscreen\u001b[0m\u001b[0;34m,\u001b[0m \u001b[0mstacktrace\u001b[0m\u001b[0;34m,\u001b[0m \u001b[0malert_text\u001b[0m\u001b[0;34m)\u001b[0m\u001b[0;34m\u001b[0m\u001b[0;34m\u001b[0m\u001b[0m\n\u001b[0;32m--> 242\u001b[0;31m         \u001b[0;32mraise\u001b[0m \u001b[0mexception_class\u001b[0m\u001b[0;34m(\u001b[0m\u001b[0mmessage\u001b[0m\u001b[0;34m,\u001b[0m \u001b[0mscreen\u001b[0m\u001b[0;34m,\u001b[0m \u001b[0mstacktrace\u001b[0m\u001b[0;34m)\u001b[0m\u001b[0;34m\u001b[0m\u001b[0;34m\u001b[0m\u001b[0m\n\u001b[0m\u001b[1;32m    243\u001b[0m \u001b[0;34m\u001b[0m\u001b[0m\n",
      "\u001b[0;31mWebDriverException\u001b[0m: Message: Failed to decode response from marionette\n",
      "\nDuring handling of the above exception, another exception occurred:\n",
      "\u001b[0;31mInvalidSessionIdException\u001b[0m                 Traceback (most recent call last)",
      "\u001b[0;32m<ipython-input-6-0e193ac1bba7>\u001b[0m in \u001b[0;36m<module>\u001b[0;34m\u001b[0m\n\u001b[1;32m      5\u001b[0m     \u001b[0;32mexcept\u001b[0m\u001b[0;34m:\u001b[0m\u001b[0;34m\u001b[0m\u001b[0;34m\u001b[0m\u001b[0m\n\u001b[1;32m      6\u001b[0m         \u001b[0mfails\u001b[0m\u001b[0;34m.\u001b[0m\u001b[0mappend\u001b[0m\u001b[0;34m(\u001b[0m\u001b[0mstreet_name\u001b[0m\u001b[0;34m)\u001b[0m\u001b[0;34m\u001b[0m\u001b[0;34m\u001b[0m\u001b[0m\n\u001b[0;32m----> 7\u001b[0;31m         \u001b[0mdriver\u001b[0m\u001b[0;34m.\u001b[0m\u001b[0mget\u001b[0m\u001b[0;34m(\u001b[0m\u001b[0mmain_url\u001b[0m\u001b[0;34m)\u001b[0m\u001b[0;34m\u001b[0m\u001b[0;34m\u001b[0m\u001b[0m\n\u001b[0m",
      "\u001b[0;32m~/anaconda3/lib/python3.7/site-packages/selenium/webdriver/remote/webdriver.py\u001b[0m in \u001b[0;36mget\u001b[0;34m(self, url)\u001b[0m\n\u001b[1;32m    331\u001b[0m         \u001b[0mLoads\u001b[0m \u001b[0ma\u001b[0m \u001b[0mweb\u001b[0m \u001b[0mpage\u001b[0m \u001b[0;32min\u001b[0m \u001b[0mthe\u001b[0m \u001b[0mcurrent\u001b[0m \u001b[0mbrowser\u001b[0m \u001b[0msession\u001b[0m\u001b[0;34m.\u001b[0m\u001b[0;34m\u001b[0m\u001b[0;34m\u001b[0m\u001b[0m\n\u001b[1;32m    332\u001b[0m         \"\"\"\n\u001b[0;32m--> 333\u001b[0;31m         \u001b[0mself\u001b[0m\u001b[0;34m.\u001b[0m\u001b[0mexecute\u001b[0m\u001b[0;34m(\u001b[0m\u001b[0mCommand\u001b[0m\u001b[0;34m.\u001b[0m\u001b[0mGET\u001b[0m\u001b[0;34m,\u001b[0m \u001b[0;34m{\u001b[0m\u001b[0;34m'url'\u001b[0m\u001b[0;34m:\u001b[0m \u001b[0murl\u001b[0m\u001b[0;34m}\u001b[0m\u001b[0;34m)\u001b[0m\u001b[0;34m\u001b[0m\u001b[0;34m\u001b[0m\u001b[0m\n\u001b[0m\u001b[1;32m    334\u001b[0m \u001b[0;34m\u001b[0m\u001b[0m\n\u001b[1;32m    335\u001b[0m     \u001b[0;34m@\u001b[0m\u001b[0mproperty\u001b[0m\u001b[0;34m\u001b[0m\u001b[0;34m\u001b[0m\u001b[0m\n",
      "\u001b[0;32m~/anaconda3/lib/python3.7/site-packages/selenium/webdriver/remote/webdriver.py\u001b[0m in \u001b[0;36mexecute\u001b[0;34m(self, driver_command, params)\u001b[0m\n\u001b[1;32m    319\u001b[0m         \u001b[0mresponse\u001b[0m \u001b[0;34m=\u001b[0m \u001b[0mself\u001b[0m\u001b[0;34m.\u001b[0m\u001b[0mcommand_executor\u001b[0m\u001b[0;34m.\u001b[0m\u001b[0mexecute\u001b[0m\u001b[0;34m(\u001b[0m\u001b[0mdriver_command\u001b[0m\u001b[0;34m,\u001b[0m \u001b[0mparams\u001b[0m\u001b[0;34m)\u001b[0m\u001b[0;34m\u001b[0m\u001b[0;34m\u001b[0m\u001b[0m\n\u001b[1;32m    320\u001b[0m         \u001b[0;32mif\u001b[0m \u001b[0mresponse\u001b[0m\u001b[0;34m:\u001b[0m\u001b[0;34m\u001b[0m\u001b[0;34m\u001b[0m\u001b[0m\n\u001b[0;32m--> 321\u001b[0;31m             \u001b[0mself\u001b[0m\u001b[0;34m.\u001b[0m\u001b[0merror_handler\u001b[0m\u001b[0;34m.\u001b[0m\u001b[0mcheck_response\u001b[0m\u001b[0;34m(\u001b[0m\u001b[0mresponse\u001b[0m\u001b[0;34m)\u001b[0m\u001b[0;34m\u001b[0m\u001b[0;34m\u001b[0m\u001b[0m\n\u001b[0m\u001b[1;32m    322\u001b[0m             response['value'] = self._unwrap_value(\n\u001b[1;32m    323\u001b[0m                 response.get('value', None))\n",
      "\u001b[0;32m~/anaconda3/lib/python3.7/site-packages/selenium/webdriver/remote/errorhandler.py\u001b[0m in \u001b[0;36mcheck_response\u001b[0;34m(self, response)\u001b[0m\n\u001b[1;32m    240\u001b[0m                 \u001b[0malert_text\u001b[0m \u001b[0;34m=\u001b[0m \u001b[0mvalue\u001b[0m\u001b[0;34m[\u001b[0m\u001b[0;34m'alert'\u001b[0m\u001b[0;34m]\u001b[0m\u001b[0;34m.\u001b[0m\u001b[0mget\u001b[0m\u001b[0;34m(\u001b[0m\u001b[0;34m'text'\u001b[0m\u001b[0;34m)\u001b[0m\u001b[0;34m\u001b[0m\u001b[0;34m\u001b[0m\u001b[0m\n\u001b[1;32m    241\u001b[0m             \u001b[0;32mraise\u001b[0m \u001b[0mexception_class\u001b[0m\u001b[0;34m(\u001b[0m\u001b[0mmessage\u001b[0m\u001b[0;34m,\u001b[0m \u001b[0mscreen\u001b[0m\u001b[0;34m,\u001b[0m \u001b[0mstacktrace\u001b[0m\u001b[0;34m,\u001b[0m \u001b[0malert_text\u001b[0m\u001b[0;34m)\u001b[0m\u001b[0;34m\u001b[0m\u001b[0;34m\u001b[0m\u001b[0m\n\u001b[0;32m--> 242\u001b[0;31m         \u001b[0;32mraise\u001b[0m \u001b[0mexception_class\u001b[0m\u001b[0;34m(\u001b[0m\u001b[0mmessage\u001b[0m\u001b[0;34m,\u001b[0m \u001b[0mscreen\u001b[0m\u001b[0;34m,\u001b[0m \u001b[0mstacktrace\u001b[0m\u001b[0;34m)\u001b[0m\u001b[0;34m\u001b[0m\u001b[0;34m\u001b[0m\u001b[0m\n\u001b[0m\u001b[1;32m    243\u001b[0m \u001b[0;34m\u001b[0m\u001b[0m\n\u001b[1;32m    244\u001b[0m     \u001b[0;32mdef\u001b[0m \u001b[0m_value_or_default\u001b[0m\u001b[0;34m(\u001b[0m\u001b[0mself\u001b[0m\u001b[0;34m,\u001b[0m \u001b[0mobj\u001b[0m\u001b[0;34m,\u001b[0m \u001b[0mkey\u001b[0m\u001b[0;34m,\u001b[0m \u001b[0mdefault\u001b[0m\u001b[0;34m)\u001b[0m\u001b[0;34m:\u001b[0m\u001b[0;34m\u001b[0m\u001b[0;34m\u001b[0m\u001b[0m\n",
      "\u001b[0;31mInvalidSessionIdException\u001b[0m: Message: Tried to run command without establishing a connection\n"
     ]
    }
   ],
   "source": [
    "fails = []\n",
    "for street_name in street_df:\n",
    "    try:\n",
    "        get_csv_page_from(street_name, driver)\n",
    "    except:\n",
    "        fails.append(street_name)\n",
    "        driver.get(main_url)"
   ]
  },
  {
   "cell_type": "code",
   "execution_count": 11,
   "metadata": {
    "ExecuteTime": {
     "end_time": "2019-09-01T12:26:41.259899Z",
     "start_time": "2019-09-01T12:26:41.251931Z"
    }
   },
   "outputs": [],
   "source": [
    "pickle_out = open(os.getcwd()+'/data/pickle_dumps/address_fails.pickle', 'wb')\n",
    "pickle.dump(fails,pickle_out)\n",
    "pickle_out.close()"
   ]
  },
  {
   "cell_type": "code",
   "execution_count": 4,
   "metadata": {
    "ExecuteTime": {
     "end_time": "2019-09-05T00:37:32.208296Z",
     "start_time": "2019-09-05T00:37:32.196237Z"
    }
   },
   "outputs": [],
   "source": [
    "pickle_in = open(os.getcwd()+'/data/pickle_dumps/address_fails.pickle', 'rb')\n",
    "addresses_df = pickle.load(pickle_in)\n",
    "pickle_in.close()"
   ]
  },
  {
   "cell_type": "code",
   "execution_count": 5,
   "metadata": {
    "ExecuteTime": {
     "end_time": "2019-09-05T00:37:39.780562Z",
     "start_time": "2019-09-05T00:37:39.768020Z"
    }
   },
   "outputs": [
    {
     "data": {
      "text/plain": [
       "['ACCESS',\n",
       " 'ACOMB',\n",
       " 'ADNORED',\n",
       " 'ALBANO',\n",
       " 'ALDEN',\n",
       " 'ANTIQUE',\n",
       " 'AUTUMN RIDGE',\n",
       " 'BAEN',\n",
       " 'BALLINGER',\n",
       " 'BARD',\n",
       " 'BETTMAN',\n",
       " 'BOLDFACE',\n",
       " 'BOYLE',\n",
       " 'BRECON',\n",
       " 'BROUGHTON',\n",
       " 'BURBANK',\n",
       " 'BYRON',\n",
       " 'CALLAHAN',\n",
       " 'CAVOUR',\n",
       " 'CEMETERY',\n",
       " 'CHAUNCEY',\n",
       " 'CHESNUT PARK',\n",
       " 'CHILI HILL',\n",
       " 'CHIPPEWA',\n",
       " 'CHRISTIANA',\n",
       " 'CIMARRON',\n",
       " 'CLIFTON VIEW',\n",
       " 'COLONIAL RIDGE',\n",
       " 'COLONY',\n",
       " 'CONEY',\n",
       " 'CORNISH',\n",
       " 'CRESCENT PARK',\n",
       " 'CROOKEDRIDGE',\n",
       " 'DAHLGREN',\n",
       " 'DEERCROSS',\n",
       " 'DERONDA',\n",
       " 'DESALES',\n",
       " 'DURBIN',\n",
       " 'DUTTON',\n",
       " 'EDWALT',\n",
       " 'ELVIRA',\n",
       " 'ENCHANTED',\n",
       " 'ENGLAGE',\n",
       " 'ESTECREEK',\n",
       " 'FERNCREST',\n",
       " 'FINANCIAL',\n",
       " 'FLEAHER',\n",
       " 'FRANKFORT',\n",
       " 'FRAZER',\n",
       " 'GALLAGER',\n",
       " 'GLEN LYON',\n",
       " 'GLENHILLS',\n",
       " 'GOULD',\n",
       " 'GREENWELLL',\n",
       " 'GUARDS ISLAND',\n",
       " 'HARCOURT ESTATES',\n",
       " 'HENRY',\n",
       " 'HERBERMONT',\n",
       " 'HERITAGEWAY',\n",
       " 'HIGH CEDAR',\n",
       " 'HILL & HOLLOW',\n",
       " 'HOLLYRIDGE',\n",
       " 'HOPPER HILL',\n",
       " 'HORIZONVIEW',\n",
       " 'ITHACA',\n",
       " 'JACK MOLLOY',\n",
       " 'JENNINGS',\n",
       " 'KEMPER RIDGE',\n",
       " 'KEPLER',\n",
       " 'KIBBY',\n",
       " 'KLEEMEIER',\n",
       " 'KRESS',\n",
       " 'KUMLER',\n",
       " 'LANDON',\n",
       " 'LEESBURG',\n",
       " 'LEUSER',\n",
       " 'LOCKHURST',\n",
       " 'MAGILL',\n",
       " 'MAKRO',\n",
       " 'MALIN',\n",
       " 'MALLORY',\n",
       " 'MARKET PLACE',\n",
       " 'MARYGOLD',\n",
       " 'MASON WAY',\n",
       " 'MATLOCK',\n",
       " 'MATTEC',\n",
       " 'MCCONNELL',\n",
       " 'MCQUEEN',\n",
       " 'MEIJER',\n",
       " 'MISSISSIPPI',\n",
       " 'MOFFATT',\n",
       " 'MONTOMERY',\n",
       " 'NITA',\n",
       " 'NORHAM',\n",
       " 'NORTH WAY',\n",
       " 'OLD FIELD',\n",
       " 'OSWALDT',\n",
       " 'OWL WOODS',\n",
       " 'OZARK',\n",
       " 'PALMORE',\n",
       " 'PARALLEL',\n",
       " 'PARK 42',\n",
       " 'PASSAGE',\n",
       " 'POLK',\n",
       " 'PRANG',\n",
       " 'PROMENADE',\n",
       " 'RED BIRD HOLLOW',\n",
       " 'RIGGLE',\n",
       " 'ROMAINE',\n",
       " 'SCHMIDLAPP',\n",
       " 'SEYBOLD',\n",
       " 'SHICKS',\n",
       " 'SOUTH PINE',\n",
       " 'STALLO',\n",
       " 'STEVENSON',\n",
       " 'SUSSHINE',\n",
       " 'SYCAMORE CREEK',\n",
       " 'TALL OAKS',\n",
       " 'THELMA',\n",
       " 'TIMBER RIDGE',\n",
       " 'TOMLINSON',\n",
       " 'TOPINABEE',\n",
       " 'TOPRIDGE',\n",
       " 'TURF WOOD',\n",
       " 'TUSKEGEE',\n",
       " 'VALDOSTA',\n",
       " 'VENDOME',\n",
       " 'VINEYARD HILLS',\n",
       " 'VIVIAN',\n",
       " 'VON SEGGERN',\n",
       " 'WADE WALK',\n",
       " 'WAITE',\n",
       " 'WATERFORD',\n",
       " 'WATERSTONE',\n",
       " 'WEST PARK',\n",
       " 'WHETSTONE',\n",
       " 'WHITETAIL MEADOW',\n",
       " 'WICKHAM',\n",
       " 'WINTONVIEW',\n",
       " 'WOLFANGLE',\n",
       " 'YUKON']"
      ]
     },
     "execution_count": 5,
     "metadata": {},
     "output_type": "execute_result"
    }
   ],
   "source": [
    "addresses_df"
   ]
  },
  {
   "cell_type": "code",
   "execution_count": null,
   "metadata": {},
   "outputs": [],
   "source": []
  }
 ],
 "metadata": {
  "kernelspec": {
   "display_name": "Python 3",
   "language": "python",
   "name": "python3"
  },
  "language_info": {
   "codemirror_mode": {
    "name": "ipython",
    "version": 3
   },
   "file_extension": ".py",
   "mimetype": "text/x-python",
   "name": "python",
   "nbconvert_exporter": "python",
   "pygments_lexer": "ipython3",
   "version": "3.7.1"
  }
 },
 "nbformat": 4,
 "nbformat_minor": 2
}
