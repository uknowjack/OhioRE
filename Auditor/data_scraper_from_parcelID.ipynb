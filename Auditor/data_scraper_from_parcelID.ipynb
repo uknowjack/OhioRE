{
 "cells": [
  {
   "cell_type": "code",
   "execution_count": 1,
   "metadata": {
    "ExecuteTime": {
     "end_time": "2019-11-08T00:41:25.509914Z",
     "start_time": "2019-11-08T00:41:24.169885Z"
    }
   },
   "outputs": [],
   "source": [
    "import pickle\n",
    "\n",
    "import pandas as pd\n",
    "import numpy as np\n",
    "\n",
    "from selenium import webdriver\n",
    "\n",
    "from selenium.webdriver.common.keys import Keys\n",
    "\n",
    "from selenium.webdriver.support.ui import WebDriverWait\n",
    "from selenium.webdriver.common.by import By\n",
    "from selenium.webdriver.support import expected_conditions\n",
    "\n",
    "import time\n",
    "import random\n",
    "import os\n"
   ]
  },
  {
   "cell_type": "code",
   "execution_count": 2,
   "metadata": {
    "ExecuteTime": {
     "end_time": "2019-09-04T23:01:05.514064Z",
     "start_time": "2019-09-04T23:01:05.507104Z"
    }
   },
   "outputs": [],
   "source": [
    "def set_ff_preferences():\n",
    "    profile = webdriver.FirefoxProfile()\n",
    "    profile.set_preference('browser.download.folderList', 2) # custom location\n",
    "    profile.set_preference('browser.download.dir', (os.getcwd()+'/data/addresses'))\n",
    "    profile.set_preference('browser.download.manager.showWhenStarting', False)\n",
    "    profile.set_preference('browser.helperApps.neverAsk.saveToDisk', \"application/csv, text/csv\")\n",
    "    return profile\n",
    "\n",
    "def create_empty_ff_driver():\n",
    "    profile = set_ff_preferences()\n",
    "    driver = webdriver.Firefox(executable_path = '/Applications/geckodriver',firefox_profile=profile)\n",
    "    return driver\n",
    "\n",
    "def create_driver_opening_url(a_url):\n",
    "    driver = create_empty_ff_driver()\n",
    "    driver.get(a_url)\n",
    "    return driver\n",
    "\n",
    "def clean_from_text(text):\n",
    "#     cleaned_text = text.replace(\",\",\"\").strip()\n",
    "    cleaned_text = text.strip()\n",
    "    return cleaned_text"
   ]
  },
  {
   "cell_type": "code",
   "execution_count": 3,
   "metadata": {
    "ExecuteTime": {
     "end_time": "2019-09-04T23:01:05.532252Z",
     "start_time": "2019-09-04T23:01:05.516808Z"
    }
   },
   "outputs": [],
   "source": [
    "def navigate_search_page(a_driver, parcel_id):\n",
    "    parcel_id_rbutton = WebDriverWait(a_driver, 10).until(\n",
    "    expected_conditions.presence_of_element_located(\n",
    "        (By.XPATH, '//*[@id=\"search_radio_parcel_id\"]')))\n",
    "\n",
    "    parcel_id_rbutton.click()\n",
    "\n",
    "    parcel_input = WebDriverWait(a_driver, 10).until(\n",
    "    expected_conditions.presence_of_element_located(\n",
    "        (By.XPATH, '//*[@id=\"parcel_number\"]')))\n",
    "\n",
    "    parcel_input.clear()\n",
    "    parcel_input.send_keys(parcel_id)\n",
    "    \n",
    "    search_button = WebDriverWait(a_driver, 10).until(\n",
    "    expected_conditions.presence_of_element_located(\n",
    "        (By.XPATH, '/html/body/div[1]/div[3]/div[2]/div[3]/form[3]/div[2]/button[1]')))\n",
    "\n",
    "    search_button.click()\n",
    "\n",
    "    \n",
    "def navigate_parcel_page(a_driver):\n",
    "    tax_distribution_button = WebDriverWait(driver, 10).until(\n",
    "    expected_conditions.presence_of_element_located(\n",
    "        (By.XPATH, '/html/body/div/div[4]/div/div[2]/div[1]/a[8]')))\n",
    "\n",
    "    tax_distribution_button.click()\n",
    "    \n",
    "def get_gross_RE_tax(a_driver):\n",
    "    gross_RE_tax = WebDriverWait(a_driver, 10).until(\n",
    "        expected_conditions.presence_of_element_located(\n",
    "            (By.XPATH, '/html/body/div/div[3]/div[2]/div/div[2]/div[3]/table[1]/tbody/tr[1]/td[2]'))\n",
    "    ).text\n",
    "\n",
    "    gross_RE_tax = float(gross_RE_tax.replace(',','').strip('$'))\n",
    "    return gross_RE_tax\n",
    "\n",
    "def get_delinquent_RE_tax(a_driver):\n",
    "    delinquent_RE_tax = WebDriverWait(a_driver, 10).until(\n",
    "        expected_conditions.presence_of_element_located(\n",
    "            (By.XPATH, '/html/body/div/div[3]/div[2]/div/div[2]/div[3]/table[1]/tbody/tr[10]/td[2]'))\n",
    "    ).text\n",
    "\n",
    "    delinquent_RE_tax = float(delinquent_RE_tax.replace(',','').strip('$'))\n",
    "    return delinquent_RE_tax\n",
    "\n",
    "def navigate_to_data(a_driver, parcel_id):\n",
    "        navigate_search_page(a_driver, parcel_id)\n",
    "        navigate_parcel_page(a_driver)\n",
    "    \n",
    "def navigate_back_to_search(a_driver):\n",
    "    try:\n",
    "        a_driver.back()\n",
    "        a_driver.back()\n",
    "    except:\n",
    "        a_driver.get('https://wedge1.hcauditor.org/')\n",
    "\n",
    "def scrape_pages(a_driver, addresses_df_section):\n",
    "    fails = []\n",
    "\n",
    "    for i,row in addresses_df_section.iterrows():\n",
    "\n",
    "        index = row.name\n",
    "\n",
    "        try:\n",
    "            navigate_to_data(a_driver, row['Parcel Number'])\n",
    "            \n",
    "            try:\n",
    "                del_RE_tax = get_delinquent_RE_tax(a_driver)\n",
    "                gross_RE_tax = get_gross_RE_tax(a_driver)\n",
    "\n",
    "                addresses_df_section.at[index, 'delinquent RE'] = del_RE_tax\n",
    "                addresses_df_section.at[index, 'gross RE tax'] = gross_RE_tax\n",
    "\n",
    "                if gross_RE_tax == 0 or del_RE_tax == 0:\n",
    "                    addresses_df_section.at[index, 'periods delinquent'] = 0.0\n",
    "                else:\n",
    "                    addresses_df_section.at[index, 'periods delinquent'] = np.round(del_RE_tax/gross_RE_tax, decimals = 3)\n",
    "\n",
    "                addresses_df_section.at[index, 'processed?'] = True\n",
    "            except:\n",
    "                fails.append(row['Parcel Number'])\n",
    "        except:\n",
    "            fails.append(row['Parcel Number'])\n",
    "\n",
    "        navigate_back_to_search(driver)\n",
    "        \n",
    "    return addresses_df_section,fails\n",
    "\n",
    "def get_address_df():\n",
    "    pickle_in = open(os.getcwd()+'/data/pickle_dumps/addresses.pickle', 'rb')\n",
    "    addresses_df = pickle.load(pickle_in)\n",
    "    pickle_in.close()\n",
    "\n",
    "    addresses_df['delinquent RE'] = 0.0\n",
    "    addresses_df['gross RE tax'] = 0.0\n",
    "    addresses_df['periods delinquent'] = 0.0\n",
    "    addresses_df['processed?'] = False\n",
    "    \n",
    "    return addresses_df\n",
    "\n",
    "def initialize_driver():\n",
    "    main_url = 'https://wedge1.hcauditor.org/'\n",
    "    a_driver = create_driver_opening_url(main_url)\n",
    "    return a_driver\n"
   ]
  },
  {
   "cell_type": "code",
   "execution_count": 4,
   "metadata": {
    "ExecuteTime": {
     "end_time": "2019-09-04T23:01:06.207202Z",
     "start_time": "2019-09-04T23:01:05.535061Z"
    }
   },
   "outputs": [],
   "source": [
    "addresses_df = get_address_df()"
   ]
  },
  {
   "cell_type": "code",
   "execution_count": 5,
   "metadata": {
    "ExecuteTime": {
     "end_time": "2019-09-04T23:01:11.982615Z",
     "start_time": "2019-09-04T23:01:06.209618Z"
    }
   },
   "outputs": [],
   "source": [
    "driver = initialize_driver()"
   ]
  },
  {
   "cell_type": "code",
   "execution_count": 6,
   "metadata": {
    "ExecuteTime": {
     "end_time": "2019-09-04T23:01:31.616699Z",
     "start_time": "2019-09-04T23:01:11.991787Z"
    }
   },
   "outputs": [],
   "source": [
    "section, fails = scrape_pages(driver, addresses_df.head(10))"
   ]
  },
  {
   "cell_type": "code",
   "execution_count": 16,
   "metadata": {
    "ExecuteTime": {
     "end_time": "2019-09-05T00:11:41.985272Z",
     "start_time": "2019-09-05T00:11:41.979725Z"
    }
   },
   "outputs": [
    {
     "data": {
      "text/plain": [
       "(820653, 9)"
      ]
     },
     "execution_count": 16,
     "metadata": {},
     "output_type": "execute_result"
    }
   ],
   "source": [
    "addresses_df.shape"
   ]
  },
  {
   "cell_type": "code",
   "execution_count": 13,
   "metadata": {
    "ExecuteTime": {
     "end_time": "2019-09-05T00:11:33.547273Z",
     "start_time": "2019-09-05T00:11:33.532151Z"
    }
   },
   "outputs": [
    {
     "data": {
      "text/html": [
       "<div>\n",
       "<style scoped>\n",
       "    .dataframe tbody tr th:only-of-type {\n",
       "        vertical-align: middle;\n",
       "    }\n",
       "\n",
       "    .dataframe tbody tr th {\n",
       "        vertical-align: top;\n",
       "    }\n",
       "\n",
       "    .dataframe thead th {\n",
       "        text-align: right;\n",
       "    }\n",
       "</style>\n",
       "<table border=\"1\" class=\"dataframe\">\n",
       "  <thead>\n",
       "    <tr style=\"text-align: right;\">\n",
       "      <th></th>\n",
       "      <th>Parcel Number</th>\n",
       "      <th>Name</th>\n",
       "      <th>Address</th>\n",
       "      <th>Sale Date</th>\n",
       "      <th>Sale Price</th>\n",
       "      <th>delinquent RE</th>\n",
       "      <th>gross RE tax</th>\n",
       "      <th>periods delinquent</th>\n",
       "      <th>processed?</th>\n",
       "    </tr>\n",
       "  </thead>\n",
       "  <tbody>\n",
       "    <tr>\n",
       "      <th>0</th>\n",
       "      <td>110-0001-0072-00</td>\n",
       "      <td>CASH BRET P</td>\n",
       "      <td>1 LENOX LN</td>\n",
       "      <td>1/27/2010</td>\n",
       "      <td>$217,000</td>\n",
       "      <td>0.0</td>\n",
       "      <td>0.0</td>\n",
       "      <td>0.0</td>\n",
       "      <td>True</td>\n",
       "    </tr>\n",
       "    <tr>\n",
       "      <th>1</th>\n",
       "      <td>110-0001-0071-00</td>\n",
       "      <td>JACOBS JOHN &amp; BRITTANI</td>\n",
       "      <td>2 LENOX LN</td>\n",
       "      <td>9/21/2017</td>\n",
       "      <td>$220,000</td>\n",
       "      <td>0.0</td>\n",
       "      <td>0.0</td>\n",
       "      <td>0.0</td>\n",
       "      <td>True</td>\n",
       "    </tr>\n",
       "    <tr>\n",
       "      <th>2</th>\n",
       "      <td>110-0001-0069-00</td>\n",
       "      <td>KEARNEY ERIC H &amp; JAN-MICHELE LEMON KEARNEY</td>\n",
       "      <td>3 LENOX LN</td>\n",
       "      <td>2/22/2017</td>\n",
       "      <td>NaN</td>\n",
       "      <td>0.0</td>\n",
       "      <td>0.0</td>\n",
       "      <td>0.0</td>\n",
       "      <td>True</td>\n",
       "    </tr>\n",
       "    <tr>\n",
       "      <th>3</th>\n",
       "      <td>110-0001-0070-00</td>\n",
       "      <td>EVANS ALICE V</td>\n",
       "      <td>4 LENOX LN</td>\n",
       "      <td>4/23/1980</td>\n",
       "      <td>$11,000</td>\n",
       "      <td>0.0</td>\n",
       "      <td>0.0</td>\n",
       "      <td>0.0</td>\n",
       "      <td>True</td>\n",
       "    </tr>\n",
       "    <tr>\n",
       "      <th>4</th>\n",
       "      <td>110-0001-0068-00</td>\n",
       "      <td>RAY ANN MARIE</td>\n",
       "      <td>5 LENOX LN</td>\n",
       "      <td>7/14/2011</td>\n",
       "      <td>$120,000</td>\n",
       "      <td>0.0</td>\n",
       "      <td>0.0</td>\n",
       "      <td>0.0</td>\n",
       "      <td>True</td>\n",
       "    </tr>\n",
       "  </tbody>\n",
       "</table>\n",
       "</div>"
      ],
      "text/plain": [
       "      Parcel Number                                        Name     Address  \\\n",
       "0  110-0001-0072-00                                CASH BRET P   1 LENOX LN   \n",
       "1  110-0001-0071-00                      JACOBS JOHN & BRITTANI  2 LENOX LN   \n",
       "2  110-0001-0069-00  KEARNEY ERIC H & JAN-MICHELE LEMON KEARNEY  3 LENOX LN   \n",
       "3  110-0001-0070-00                              EVANS ALICE V   4 LENOX LN   \n",
       "4  110-0001-0068-00                              RAY ANN MARIE   5 LENOX LN   \n",
       "\n",
       "   Sale Date Sale Price  delinquent RE  gross RE tax  periods delinquent  \\\n",
       "0  1/27/2010   $217,000            0.0           0.0                 0.0   \n",
       "1  9/21/2017   $220,000            0.0           0.0                 0.0   \n",
       "2  2/22/2017        NaN            0.0           0.0                 0.0   \n",
       "3  4/23/1980    $11,000            0.0           0.0                 0.0   \n",
       "4  7/14/2011   $120,000            0.0           0.0                 0.0   \n",
       "\n",
       "   processed?  \n",
       "0        True  \n",
       "1        True  \n",
       "2        True  \n",
       "3        True  \n",
       "4        True  "
      ]
     },
     "execution_count": 13,
     "metadata": {},
     "output_type": "execute_result"
    }
   ],
   "source": [
    "addresses_df.head()"
   ]
  },
  {
   "cell_type": "code",
   "execution_count": 23,
   "metadata": {
    "ExecuteTime": {
     "end_time": "2019-09-05T00:28:32.023439Z",
     "start_time": "2019-09-05T00:28:32.017585Z"
    }
   },
   "outputs": [
    {
     "data": {
      "text/plain": [
       "(28820, 9)"
      ]
     },
     "execution_count": 23,
     "metadata": {},
     "output_type": "execute_result"
    }
   ],
   "source": [
    "df.shape"
   ]
  },
  {
   "cell_type": "code",
   "execution_count": null,
   "metadata": {},
   "outputs": [],
   "source": []
  }
 ],
 "metadata": {
  "kernelspec": {
   "display_name": "Python 3",
   "language": "python",
   "name": "python3"
  },
  "language_info": {
   "codemirror_mode": {
    "name": "ipython",
    "version": 3
   },
   "file_extension": ".py",
   "mimetype": "text/x-python",
   "name": "python",
   "nbconvert_exporter": "python",
   "pygments_lexer": "ipython3",
   "version": "3.7.1"
  }
 },
 "nbformat": 4,
 "nbformat_minor": 2
}
